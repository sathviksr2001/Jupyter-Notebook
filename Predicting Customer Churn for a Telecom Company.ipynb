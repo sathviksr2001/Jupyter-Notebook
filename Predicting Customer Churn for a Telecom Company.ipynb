{
 "cells": [
  {
   "cell_type": "code",
   "execution_count": 1,
   "id": "39fa8e43-b7dd-4ec2-8f13-9a9206f789c4",
   "metadata": {},
   "outputs": [
    {
     "name": "stdout",
     "output_type": "stream",
     "text": [
      "Requirement already satisfied: pandas in c:\\users\\sathvik s.r\\anaconda3\\lib\\site-packages (2.1.4)\n",
      "Requirement already satisfied: scikit-learn in c:\\users\\sathvik s.r\\anaconda3\\lib\\site-packages (1.2.2)\n",
      "Requirement already satisfied: seaborn in c:\\users\\sathvik s.r\\anaconda3\\lib\\site-packages (0.12.2)\n",
      "Requirement already satisfied: matplotlib in c:\\users\\sathvik s.r\\anaconda3\\lib\\site-packages (3.8.0)\n",
      "Requirement already satisfied: numpy<2,>=1.23.2 in c:\\users\\sathvik s.r\\anaconda3\\lib\\site-packages (from pandas) (1.26.4)\n",
      "Requirement already satisfied: python-dateutil>=2.8.2 in c:\\users\\sathvik s.r\\anaconda3\\lib\\site-packages (from pandas) (2.8.2)\n",
      "Requirement already satisfied: pytz>=2020.1 in c:\\users\\sathvik s.r\\anaconda3\\lib\\site-packages (from pandas) (2023.3.post1)\n",
      "Requirement already satisfied: tzdata>=2022.1 in c:\\users\\sathvik s.r\\anaconda3\\lib\\site-packages (from pandas) (2023.3)\n",
      "Requirement already satisfied: scipy>=1.3.2 in c:\\users\\sathvik s.r\\anaconda3\\lib\\site-packages (from scikit-learn) (1.11.4)\n",
      "Requirement already satisfied: joblib>=1.1.1 in c:\\users\\sathvik s.r\\anaconda3\\lib\\site-packages (from scikit-learn) (1.2.0)\n",
      "Requirement already satisfied: threadpoolctl>=2.0.0 in c:\\users\\sathvik s.r\\anaconda3\\lib\\site-packages (from scikit-learn) (2.2.0)\n",
      "Requirement already satisfied: contourpy>=1.0.1 in c:\\users\\sathvik s.r\\anaconda3\\lib\\site-packages (from matplotlib) (1.2.0)\n",
      "Requirement already satisfied: cycler>=0.10 in c:\\users\\sathvik s.r\\anaconda3\\lib\\site-packages (from matplotlib) (0.11.0)\n",
      "Requirement already satisfied: fonttools>=4.22.0 in c:\\users\\sathvik s.r\\anaconda3\\lib\\site-packages (from matplotlib) (4.25.0)\n",
      "Requirement already satisfied: kiwisolver>=1.0.1 in c:\\users\\sathvik s.r\\anaconda3\\lib\\site-packages (from matplotlib) (1.4.4)\n",
      "Requirement already satisfied: packaging>=20.0 in c:\\users\\sathvik s.r\\anaconda3\\lib\\site-packages (from matplotlib) (23.1)\n",
      "Requirement already satisfied: pillow>=6.2.0 in c:\\users\\sathvik s.r\\anaconda3\\lib\\site-packages (from matplotlib) (10.2.0)\n",
      "Requirement already satisfied: pyparsing>=2.3.1 in c:\\users\\sathvik s.r\\anaconda3\\lib\\site-packages (from matplotlib) (3.0.9)\n",
      "Requirement already satisfied: six>=1.5 in c:\\users\\sathvik s.r\\anaconda3\\lib\\site-packages (from python-dateutil>=2.8.2->pandas) (1.16.0)\n",
      "Note: you may need to restart the kernel to use updated packages.\n"
     ]
    }
   ],
   "source": [
    "pip install pandas scikit-learn seaborn matplotlib\n"
   ]
  },
  {
   "cell_type": "code",
   "execution_count": 2,
   "id": "7eaaae2c-acc2-4111-9428-041453d396f8",
   "metadata": {},
   "outputs": [
    {
     "name": "stdout",
     "output_type": "stream",
     "text": [
      "Index(['SeniorCitizen', 'tenure', 'MonthlyCharges', 'customerID_0003-MKNFE',\n",
      "       'customerID_0004-TLHLJ', 'customerID_0011-IGKFF',\n",
      "       'customerID_0013-EXCHZ', 'customerID_0013-MHZWF',\n",
      "       'customerID_0013-SMEOE', 'customerID_0014-BMAQU',\n",
      "       ...\n",
      "       'TotalCharges_996.45', 'TotalCharges_996.85', 'TotalCharges_996.95',\n",
      "       'TotalCharges_997.65', 'TotalCharges_997.75', 'TotalCharges_998.1',\n",
      "       'TotalCharges_999.45', 'TotalCharges_999.8', 'TotalCharges_999.9',\n",
      "       'Churn_Yes'],\n",
      "      dtype='object', length=13602)\n"
     ]
    },
    {
     "data": {
      "image/png": "[encoded data removed]",
      "text/plain": [
       "<Figure size 640x480 with 1 Axes>"
      ]
     },
     "metadata": {},
     "output_type": "display_data"
    }
   ],
   "source": [
    "import pandas as pd\n",
    "import seaborn as sns\n",
    "import matplotlib.pyplot as plt\n",
    "\n",
    "# Load the dataset and path\n",
    "data = pd.read_csv('Downloads/Telco_Customer_Churn.csv')\n",
    "\n",
    "# Remove rows with missing values\n",
    "data = data.dropna()  \n",
    "\n",
    "# Convert variables into numerical format \n",
    "data = pd.get_dummies(data, drop_first=True)\n",
    "\n",
    "# Display the names of the columns \n",
    "print(data.columns)\n",
    "\n",
    "# Visualize the distribution of customers who churned\n",
    "sns.countplot(x='Churn_Yes', data=data) \n",
    "plt.title('Customer Churn Distribution')  # title\n",
    "plt.xlabel('Churn (Yes/No)')  #  x-axis\n",
    "plt.ylabel('Count')  #  y-axis\n",
    "plt.show()"
   ]
  },
  {
   "cell_type": "code",
   "execution_count": 3,
   "id": "82c98133-a6ee-4d3a-aa95-b2e8df9dff1e",
   "metadata": {},
   "outputs": [
    {
     "name": "stdout",
     "output_type": "stream",
     "text": [
      "              precision    recall  f1-score   support\n",
      "\n",
      "       False       0.81      0.94      0.87      1539\n",
      "        True       0.71      0.40      0.51       574\n",
      "\n",
      "    accuracy                           0.79      2113\n",
      "   macro avg       0.76      0.67      0.69      2113\n",
      "weighted avg       0.78      0.79      0.77      2113\n",
      "\n"
     ]
    }
   ],
   "source": [
    "from sklearn.model_selection import train_test_split\n",
    "from sklearn.ensemble import RandomForestClassifier\n",
    "from sklearn.metrics import classification_report\n",
    "\n",
    "# Split the data into features as (X), target as (y)\n",
    "X = data.drop('Churn_Yes', axis=1)  \n",
    "y = data['Churn_Yes']  \n",
    "\n",
    "# Split the data into training and testing sets\n",
    "X_train, X_test, y_train, y_test = train_test_split(X, y, test_size=0.3, random_state=42)\n",
    "\n",
    "# Create a Random Forest model\n",
    "rf_model = RandomForestClassifier()\n",
    "\n",
    "# Train the model using training data\n",
    "rf_model.fit(X_train, y_train)\n",
    "\n",
    "# Make predictions on test set\n",
    "y_pred = rf_model.predict(X_test)\n",
    "\n",
    "# Evaluating model's performance \n",
    "print(classification_report(y_test, y_pred))"
   ]
  },
  {
   "cell_type": "code",
   "execution_count": 4,
   "id": "2b8de062-64c6-43a1-8821-50f32264e068",
   "metadata": {},
   "outputs": [
    {
     "name": "stdout",
     "output_type": "stream",
     "text": [
      "Accuracy: 0.79\n",
      "F1-Score: 0.51\n"
     ]
    }
   ],
   "source": [
    "from sklearn.metrics import accuracy_score, f1_score\n",
    "\n",
    "# Calculate accuracy \n",
    "accuracy = accuracy_score(y_test, y_pred)\n",
    "\n",
    "# Calculate F1-score \n",
    "f1 = f1_score(y_test, y_pred)\n",
    "\n",
    "# results\n",
    "print(f\"Accuracy: {accuracy:.2f}\")  \n",
    "print(f\"F1-Score: {f1:.2f}\")          "
   ]
  },
  {
   "cell_type": "code",
   "execution_count": 13,
   "id": "3ee046e5-59fb-4423-b7ed-cc6735724f8f",
   "metadata": {},
   "outputs": [
    {
     "name": "stdout",
     "output_type": "stream",
     "text": [
      "The customer is not likely to churn.\n",
      "Probability of churn: 0.50\n"
     ]
    }
   ],
   "source": [
    "#Making predictions on new customer data.\n",
    "\n",
    "import pandas as pd\n",
    "\n",
    "# Example new customer data\n",
    "new_customer_data = pd.DataFrame({\n",
    "    'gender': ['Female'],\n",
    "    'SeniorCitizen': [0],\n",
    "    'Partner': ['Yes'],\n",
    "    'Dependents': ['No'],\n",
    "    'tenure': [5],\n",
    "    'PhoneService': ['Yes'],\n",
    "    'MultipleLines': ['No'],\n",
    "    'InternetService': ['Fiber optic'],\n",
    "    'OnlineSecurity': ['No'],\n",
    "    'OnlineBackup': ['Yes'],\n",
    "    'DeviceProtection': ['No'],\n",
    "    'TechSupport': ['No'],\n",
    "    'StreamingTV': ['Yes'],\n",
    "    'StreamingMovies': ['No'],\n",
    "    'Contract': ['Month-to-month'],\n",
    "    'PaperlessBilling': ['Yes'],\n",
    "    'PaymentMethod': ['Electronic check'],\n",
    "    'MonthlyCharges': [85.5],\n",
    "    'TotalCharges': [400]\n",
    "})\n",
    "\n",
    "# Preprocess the new customer data to match the training set\n",
    "training_columns = ['gender', 'SeniorCitizen', 'Partner', 'Dependents', 'tenure',\n",
    "                    'PhoneService', 'MultipleLines', 'InternetService', 'OnlineSecurity',\n",
    "                    'OnlineBackup', 'DeviceProtection', 'TechSupport', 'StreamingTV',\n",
    "                    'StreamingMovies', 'Contract', 'PaperlessBilling', 'PaymentMethod',\n",
    "                    'MonthlyCharges', 'TotalCharges']\n",
    "\n",
    "# Ensure new customer data columns match the training data\n",
    "new_customer_data = new_customer_data.reindex(columns=training_columns)\n",
    "\n",
    "new_customer_data_encoded = pd.get_dummies(new_customer_data, drop_first=True)\n",
    "\n",
    "# Fill missing columns\n",
    "required_columns = X_train.columns  # Columns that the model expects\n",
    "for col in required_columns:\n",
    "    if col not in new_customer_data_encoded.columns:\n",
    "        new_customer_data_encoded[col] = 0\n",
    "\n",
    "# Ensure the column order matches the training data\n",
    "new_customer_data_encoded = new_customer_data_encoded[required_columns]\n",
    "\n",
    "# Predict churn using the trained model\n",
    "churn_prediction = rf_model.predict(new_customer_data_encoded)\n",
    "\n",
    "# Output prediction\n",
    "if churn_prediction[0] == 1:\n",
    "    print(\"The customer is likely to churn.\")\n",
    "else:\n",
    "    print(\"The customer is not likely to churn.\")\n",
    "\n",
    "# probability of churn\n",
    "churn_probabilities = rf_model.predict_proba(new_customer_data_encoded)\n",
    "print(f\"Probability of churn: {churn_probabilities[0][1]:.2f}\")\n"
   ]
  }
 ],
 "metadata": {
  "kernelspec": {
   "display_name": "Python 3 (ipykernel)",
   "language": "python",
   "name": "python3"
  },
  "language_info": {
   "codemirror_mode": {
    "name": "ipython",
    "version": 3
   },
   "file_extension": ".py",
   "mimetype": "text/x-python",
   "name": "python",
   "nbconvert_exporter": "python",
   "pygments_lexer": "ipython3",
   "version": "3.11.7"
  }
 },
 "nbformat": 4,
 "nbformat_minor": 5
}
